{
 "cells": [
  {
   "cell_type": "markdown",
   "id": "closed-poetry",
   "metadata": {},
   "source": [
    "# Hill Climbing\n",
    "\n",
    "This notebook demonstrates a simple hill climbing algorithm with adaptive noise scaling using OpenAI Gym's CartPole environment\n",
    "\n",
    "This is just a toy example which uses **env.seed(0)** to show the algorithim and is **NOT A SOLUTION**"
   ]
  },
  {
   "cell_type": "code",
   "execution_count": 1,
   "id": "explicit-audience",
   "metadata": {},
   "outputs": [],
   "source": [
    "import gym\n",
    "import numpy as np\n",
    "\n",
    "import torch\n",
    "import torch.nn as nn\n",
    "import torch.functional as F"
   ]
  },
  {
   "cell_type": "markdown",
   "id": "polished-offering",
   "metadata": {},
   "source": [
    "## Explore Environment\n",
    "\n",
    "The shape of the state and action space"
   ]
  },
  {
   "cell_type": "code",
   "execution_count": 2,
   "id": "disciplinary-sample",
   "metadata": {},
   "outputs": [
    {
     "name": "stdout",
     "output_type": "stream",
     "text": [
      "State Space: Box(-3.4028234663852886e+38, 3.4028234663852886e+38, (4,), float32)\n",
      "State Space Shape: (4,)\n",
      "Action Space: Discrete(2)\n"
     ]
    }
   ],
   "source": [
    "env = gym.make('CartPole-v0')\n",
    "print(f'State Space: {env.observation_space}')\n",
    "print(f'State Space Shape: {env.observation_space.shape}')\n",
    "print(f'Action Space: {env.action_space}')"
   ]
  },
  {
   "cell_type": "markdown",
   "id": "falling-heath",
   "metadata": {},
   "source": [
    "## WeightModifier\n",
    "\n",
    "This is a base class for all agents that require their weight to be modified externally rather than using an optimizer for training the agent"
   ]
  },
  {
   "cell_type": "code",
   "execution_count": 3,
   "id": "elementary-nickname",
   "metadata": {},
   "outputs": [],
   "source": [
    "from typing import List\n",
    "\n",
    "class WeightModifier:\n",
    "    \"\"\"\n",
    "    Given a flat weights array, this class can disribute the array weights to individual\n",
    "    layer components.\n",
    "    \n",
    "    Total number of weights required can be found by calling get_weights_dim() method\n",
    "    \"\"\"\n",
    "    def _set_layers(self, layers: List[nn.Linear]):\n",
    "        \"\"\"\n",
    "        All layers of the network are saved in an array and indices are computed to be used\n",
    "        later to copy weights from a flat numpy array containing weights for all of the \n",
    "        layers.\n",
    "        \"\"\"\n",
    "        self.layers = layers\n",
    "        self.w_indices = []\n",
    "        idx_start = 0\n",
    "        for l in self.layers:\n",
    "            indices = self._w_b_indices(l, idx_start)\n",
    "            self.w_indices.append((idx_start, *indices))\n",
    "            idx_start = indices[1]\n",
    "            \n",
    "    def _w_b_indices(self, layer, start):\n",
    "        \"\"\"\n",
    "        returns the indices in the weights array where the given layer's \n",
    "        weights and biases are to be copied from\n",
    "        \"\"\"\n",
    "        w = np.prod(layer.weight.shape)   # e.g. 4 layer with 2 input would be (4,2)=8 shape\n",
    "        b = layer.bias.shape[0]           # bias only has as many as neurons in this layer\n",
    "        return start + w, start + w + b\n",
    "\n",
    "    def _set_layer_weights_(self, layer, weights, layer_no):\n",
    "        start, layer_w, layer_b = self.w_indices[layer_no]\n",
    "        \n",
    "        # pick up weights and biases from the weights array passed in\n",
    "        w = weights[start: layer_w]\n",
    "        b = weights[layer_w: layer_b]\n",
    "        \n",
    "        # change weight and bias of the given layer\n",
    "        layer.weight.data.copy_(torch.from_numpy(w).view(layer.weight.shape))\n",
    "        layer.bias.data.copy_(torch.from_numpy(b).view(layer.bias.shape))\n",
    "        \n",
    "        # returns the index where next layer's weights will start from\n",
    "        return layer_b\n",
    "    \n",
    "    def set_weights(self, weights):\n",
    "        index = 0\n",
    "        for idx, l in enumerate(self.layers):\n",
    "            self._set_layer_weights_(l, weights, idx)\n",
    "\n",
    "    def get_weights(self):\n",
    "        w = np.zeros(self.get_weights_dim())\n",
    "        for idx, l in enumerate(self.layers):\n",
    "            i = self.w_indices[idx]\n",
    "            w[i[0] : i[1]] = l.weight.data.cpu().detach().numpy().reshape(-1)\n",
    "            w[i[1] : i[2]] = l.bias.data.cpu().detach().numpy().reshape(-1)\n",
    "        return np.array(w)\n",
    "        \n",
    "    def get_weights_dim(self):\n",
    "        return self.w_indices[-1][2]\n",
    "    \n",
    "    def gen_random(self, sigma = 1.):\n",
    "        return sigma * np.random.rand(self.get_weights_dim())"
   ]
  },
  {
   "cell_type": "markdown",
   "id": "quiet-caution",
   "metadata": {},
   "source": [
    "## Agent Definition\n",
    "\n",
    "Any agent to be used by hill_climbing algorithm needs:\n",
    "\n",
    "1. an `act` method that should return an action index to be used\n",
    "2. `set_weights` method to set new weights on it\n",
    "3. `get_weights_dim` to find out how many random numbers are to be generated\n",
    "4. `get_weights for` the hill climbing algorithm to find out existing weights"
   ]
  },
  {
   "cell_type": "code",
   "execution_count": 4,
   "id": "nervous-parcel",
   "metadata": {},
   "outputs": [],
   "source": [
    "# A PyTorch based agent\n",
    "class Agent(nn.Module, WeightModifier):\n",
    "    def __init__(self, env):\n",
    "        super().__init__()\n",
    "        self.state_space = env.observation_space.shape[0]\n",
    "        self.action_space = env.action_space.n\n",
    "        \n",
    "        self.fc1 = nn.Linear(self.state_space, 8)\n",
    "        self.fc2 = nn.Linear(8, self.action_space)\n",
    "        \n",
    "        super()._set_layers([self.fc1, self.fc2])\n",
    "        \n",
    "    def forward(self, X):\n",
    "        X_tensor = torch.from_numpy(X).float().to(self.fc1.weight.device)\n",
    "        output = torch.relu(self.fc1(X_tensor))\n",
    "        output = self.fc2(output)\n",
    "        return torch.softmax(output, dim = 0)\n",
    "    \n",
    "    def act(self, state):\n",
    "        with torch.no_grad():\n",
    "            prob = self.forward(state)\n",
    "        return int(torch.argmax(prob).cpu().detach().numpy())\n",
    "    \n",
    "# A simple agent that does not use PyTorch and just implements X @ W (np.dot(x, W))\n",
    "class SimplePolicyAgent:\n",
    "    def __init__(self, env, factor = 1e-4):\n",
    "        self.w = factor * np.random.rand(env.observation_space.shape[0], env.action_space.n)\n",
    "        \n",
    "    def forward(self, state):\n",
    "        wx = state @ self.w\n",
    "        return np.exp(wx) / np.sum(np.exp(wx))\n",
    "    \n",
    "    def act(self, state):\n",
    "        probs = self.forward(state)\n",
    "        return np.argmax(probs)\n",
    "    \n",
    "    def set_weights(self, w):\n",
    "        self.w = w.reshape(self.w.shape)\n",
    "        \n",
    "    def get_weights(self):\n",
    "        return self.w.reshape(-1)\n",
    "    \n",
    "    def get_weights_dim(self):\n",
    "        return np.prod(self.w.shape)\n",
    "    "
   ]
  },
  {
   "cell_type": "markdown",
   "id": "intellectual-hormone",
   "metadata": {},
   "source": [
    "## Confirm set_weights is correctly implemented\n",
    "\n",
    "Make sure that the new weights are correctly set on each layer"
   ]
  },
  {
   "cell_type": "code",
   "execution_count": 5,
   "id": "raising-exploration",
   "metadata": {},
   "outputs": [
    {
     "name": "stdout",
     "output_type": "stream",
     "text": [
      "Using device: cuda\n",
      "Passed\n"
     ]
    }
   ],
   "source": [
    "device = 'cuda' if torch.cuda.is_available() else 'cpu'\n",
    "print(f'Using device: {device}')\n",
    "\n",
    "env = gym.make('CartPole-v0')\n",
    "a = Agent(env).to(device)\n",
    "\n",
    "first_layer = (env.observation_space.shape[0] + 1) * 8\n",
    "second_layer = (8 + 1) * env.action_space.n\n",
    "\n",
    "assert a.get_weights_dim() == first_layer + second_layer, \"get_weights_dim is not correctly implemented\"\n",
    "\n",
    "fc1_w = np.random.rand(env.observation_space.shape[0] * 8)\n",
    "fc1_b = np.random.rand(8)\n",
    "fc2_w = np.random.rand(8 * env.action_space.n)\n",
    "fc2_b = np.random.rand(env.action_space.n)\n",
    "\n",
    "w = np.hstack([fc1_w, fc1_b, fc2_w, fc2_b])\n",
    "a.set_weights(w)\n",
    "\n",
    "assert np.all(abs(fc1_w - a.fc1.weight.data.cpu().detach().numpy().reshape(-1)) < 0.0001)\n",
    "assert np.all(abs(fc1_b - a.fc1.bias.data.cpu().detach().numpy().reshape(-1)) < 0.0001)\n",
    "assert np.all(abs(fc2_w - a.fc2.weight.data.cpu().detach().numpy().reshape(-1)) < 0.0001)\n",
    "assert np.all(abs(fc2_b - a.fc2.bias.data.cpu().detach().numpy().reshape(-1)) < 0.0001)\n",
    "\n",
    "assert np.all(abs(a.get_weights() - w) < 0.0001)\n",
    "\n",
    "print('Passed')"
   ]
  },
  {
   "cell_type": "markdown",
   "id": "suited-selection",
   "metadata": {},
   "source": [
    "## Hill Climbing with Adaptive Noise"
   ]
  },
  {
   "cell_type": "code",
   "execution_count": 76,
   "id": "suffering-canal",
   "metadata": {},
   "outputs": [
    {
     "name": "stdout",
     "output_type": "stream",
     "text": [
      "\r",
      "Ep 100: 175.07\n",
      "Env solved in 12 episodes, mean score = 196.49\n"
     ]
    }
   ],
   "source": [
    "from collections import deque\n",
    "\n",
    "def run_episode(agent: Agent, env, gamma: float, max_t = 1000) -> (float, float, int):\n",
    "    score = 0\n",
    "    ep_reward = 0\n",
    "    state = env.reset()\n",
    "    gamma_t = 1\n",
    "    \n",
    "    for t in range(max_t):\n",
    "        action = agent.act(state)\n",
    "        state, reward, done, _ = env.step(action)\n",
    "        \n",
    "        # accumulate score and discounted rate\n",
    "        score += reward\n",
    "        ep_reward += reward * gamma_t\n",
    "        gamma_t *= gamma\n",
    "        \n",
    "        if done:\n",
    "            break\n",
    "    return score, ep_reward\n",
    "\n",
    "def hill_climbing(agent: Agent, env, min_score : float, \n",
    "                  n_episodes : int = 1000, max_t : int = 1000, \n",
    "                  gamma : float = 1., noise_scale : float = 1e-2, print_every : int = 100) -> List[float]:\n",
    "    scores = []\n",
    "    scores_100 = deque(maxlen = 100)\n",
    "    for i in range(100):\n",
    "        scores_100.append(0)\n",
    "    best_w = agent.get_weights()\n",
    "    best_reward = -np.Inf\n",
    "    \n",
    "    for ep_no in range(n_episodes):\n",
    "        ep_score, ep_reward = run_episode(agent, env, gamma, max_t)\n",
    "        \n",
    "        scores_100.append(ep_score)\n",
    "        scores.append(ep_score)\n",
    "\n",
    "        if np.mean(scores_100) >= min_score:\n",
    "            break\n",
    "\n",
    "        if ep_reward >= best_reward:\n",
    "            best_reward = ep_reward\n",
    "            best_w = agent.get_weights()\n",
    "            \n",
    "            noise_scale = max(1e-3, noise_scale / 2.)\n",
    "        else:\n",
    "            # the new weights were not better than the best weights, so we \n",
    "            # need to now expand our range\n",
    "            noise_scale = min(2, noise_scale * 2.)\n",
    "\n",
    "        w = best_w + noise_scale * np.random.rand(agent.get_weights_dim())\n",
    "        agent.set_weights(w)\n",
    "    \n",
    "        if (ep_no + 1) % print_every == 0:\n",
    "            print(f'\\rEp {ep_no + 1}: {np.mean(scores_100)}', end='')\n",
    "    \n",
    "    if np.mean(scores_100) < min_score:\n",
    "        print(f'\\nEnv could not be solved in the given episodes')\n",
    "    else:\n",
    "        print(f'\\nEnv solved in {ep_no - 100} episodes, mean score = {np.mean(scores_100)}')\n",
    "        \n",
    "    return scores\n",
    "\n",
    "env = gym.make('CartPole-v0')\n",
    "env.seed(0)\n",
    "np.random.seed(0)\n",
    "\n",
    "agent = SimplePolicyAgent(env)\n",
    "\n",
    "scores = hill_climbing(agent, env, 195, n_episodes = 1000)"
   ]
  },
  {
   "cell_type": "code",
   "execution_count": 80,
   "id": "supreme-timber",
   "metadata": {},
   "outputs": [
    {
     "data": {
      "image/png": "[encoded data removed]",
      "text/plain": [
       "<Figure size 432x288 with 1 Axes>"
      ]
     },
     "metadata": {
      "needs_background": "light"
     },
     "output_type": "display_data"
    }
   ],
   "source": [
    "import matplotlib.pyplot as plt\n",
    "\n",
    "plt.plot(np.arange(len(scores)), scores)\n",
    "plt.xlabel('Episode #')\n",
    "plt.ylabel('Score')\n",
    "plt.show()"
   ]
  },
  {
   "cell_type": "code",
   "execution_count": null,
   "id": "located-convert",
   "metadata": {},
   "outputs": [],
   "source": [
    "import gym\n",
    "env = gym.make('CartPole-v0')\n",
    "env.seed(0)\n",
    "np.random.seed(0)\n",
    "\n",
    "for i_episode in range(20):\n",
    "    state = env.reset()\n",
    "    \n",
    "    for t in range(100):\n",
    "        env.render()\n",
    "        action = agent.act(state)\n",
    "        state, reward, done, info = env.step(action)\n",
    "        \n",
    "        if done:\n",
    "            print(\"Episode finished after {} timesteps\".format(t+1))\n",
    "            break\n",
    "            \n",
    "env.close()"
   ]
  }
 ],
 "metadata": {
  "kernelspec": {
   "display_name": "Python 3",
   "language": "python",
   "name": "python3"
  },
  "language_info": {
   "codemirror_mode": {
    "name": "ipython",
    "version": 3
   },
   "file_extension": ".py",
   "mimetype": "text/x-python",
   "name": "python",
   "nbconvert_exporter": "python",
   "pygments_lexer": "ipython3",
   "version": "3.8.8"
  }
 },
 "nbformat": 4,
 "nbformat_minor": 5
}
